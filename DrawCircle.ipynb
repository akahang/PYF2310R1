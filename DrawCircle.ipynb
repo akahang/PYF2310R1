{
 "cells": [
  {
   "cell_type": "code",
   "execution_count": null,
   "id": "c484b656",
   "metadata": {},
   "outputs": [],
   "source": [
    "import turtle\n",
    "\n",
    "turtle.pensize (5)\n",
    " \n",
    "turtle.pencolor (\"green\")\n",
    "\n",
    "turtle.fillcolor (\"blue\")\n",
    "turtle.begin_fill()\n",
    "\n",
    "\n",
    "turtle.circle (100)\n",
    "turtle.end_fill()\n",
    "turtle.done"
   ]
  },
  {
   "cell_type": "code",
   "execution_count": null,
   "id": "135af4e4",
   "metadata": {},
   "outputs": [],
   "source": []
  }
 ],
 "metadata": {
  "kernelspec": {
   "display_name": "Python 3 (ipykernel)",
   "language": "python",
   "name": "python3"
  },
  "language_info": {
   "codemirror_mode": {
    "name": "ipython",
    "version": 3
   },
   "file_extension": ".py",
   "mimetype": "text/x-python",
   "name": "python",
   "nbconvert_exporter": "python",
   "pygments_lexer": "ipython3",
   "version": "3.9.12"
  }
 },
 "nbformat": 4,
 "nbformat_minor": 5
}
