{
 "cells": [
  {
   "cell_type": "code",
   "execution_count": null,
   "id": "79399b8d",
   "metadata": {},
   "outputs": [],
   "source": [
    "amount_spent = float(input(\"Nhập số tiền bạn đã chi tại cửa hàng: $\"))\n",
    "\n",
    "if amount_spent >= 150:\n",
    "    discount = 50\n",
    "elif amount_spent >= 100:\n",
    "    discount = 25\n",
    "elif amount_spent >= 75:\n",
    "    discount = 15\n",
    "else:\n",
    "    discount = 0\n",
    "\n",
    "total_payment = amount_spent - discount\n",
    "\n",
    "print(f\"Số tiền bạn phải thanh toán sau giảm giá là: ${total_payment}\")\n"
   ]
  }
 ],
 "metadata": {
  "kernelspec": {
   "display_name": "Python 3 (ipykernel)",
   "language": "python",
   "name": "python3"
  },
  "language_info": {
   "codemirror_mode": {
    "name": "ipython",
    "version": 3
   },
   "file_extension": ".py",
   "mimetype": "text/x-python",
   "name": "python",
   "nbconvert_exporter": "python",
   "pygments_lexer": "ipython3",
   "version": "3.9.12"
  }
 },
 "nbformat": 4,
 "nbformat_minor": 5
}
