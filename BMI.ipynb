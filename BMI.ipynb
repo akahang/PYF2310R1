{
 "cells": [
  {
   "cell_type": "code",
   "execution_count": null,
   "id": "0003ed19",
   "metadata": {},
   "outputs": [],
   "source": [
    "height = float(input(\"Nhập chiều cao của bạn (m): \"))\n",
    "\n",
    "weight = float(input(\"Nhập cân nặng của bạn (kg): \"))\n",
    "\n",
    "bmi = weight / (height ** 2)\n",
    "\n",
    "print(f\"Chỉ số BMI của bạn là: {bmi:.2f}\")\n",
    "\n",
    "if bmi < 16:\n",
    "    print(\"Gầy cấp độ III\")\n",
    "elif 16 <= bmi < 17:\n",
    "    print(\"Gầy cấp độ II\")\n",
    "elif 17 <= bmi < 18.5:\n",
    "    print(\"Gầy cấp độ I\")\n",
    "elif 18.5 <= bmi < 25:\n",
    "    print(\"Bình thường\")\n",
    "elif 25 <= bmi < 30:\n",
    "    print(\"Thừa cân\")\n",
    "elif 30 <= bmi < 35:\n",
    "    print(\"Béo phì cấp độ I\")\n",
    "elif 35 <= bmi < 40:\n",
    "    print(\"Béo phì cấp độ II\")\n",
    "else:\n",
    "    print(\"Béo phì cấp độ III\")"
   ]
  }
 ],
 "metadata": {
  "kernelspec": {
   "display_name": "Python 3 (ipykernel)",
   "language": "python",
   "name": "python3"
  },
  "language_info": {
   "codemirror_mode": {
    "name": "ipython",
    "version": 3
   },
   "file_extension": ".py",
   "mimetype": "text/x-python",
   "name": "python",
   "nbconvert_exporter": "python",
   "pygments_lexer": "ipython3",
   "version": "3.9.12"
  }
 },
 "nbformat": 4,
 "nbformat_minor": 5
}
