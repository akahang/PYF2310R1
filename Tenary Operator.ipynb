{
 "cells": [
  {
   "cell_type": "code",
   "execution_count": null,
   "id": "606e3da5",
   "metadata": {},
   "outputs": [],
   "source": [
    "number = int(input(\"Nhập vào số nguyên: \"))\n",
    "\n",
    "result = \"số chẵn\" if number % 2 == 0 else \"số lẻ\"\n",
    "print(f\"{number} là {result}.\")"
   ]
  }
 ],
 "metadata": {
  "kernelspec": {
   "display_name": "Python 3 (ipykernel)",
   "language": "python",
   "name": "python3"
  },
  "language_info": {
   "codemirror_mode": {
    "name": "ipython",
    "version": 3
   },
   "file_extension": ".py",
   "mimetype": "text/x-python",
   "name": "python",
   "nbconvert_exporter": "python",
   "pygments_lexer": "ipython3",
   "version": "3.9.12"
  }
 },
 "nbformat": 4,
 "nbformat_minor": 5
}
