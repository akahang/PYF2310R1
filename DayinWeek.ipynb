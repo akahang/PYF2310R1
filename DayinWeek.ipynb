{
 "cells": [
  {
   "cell_type": "code",
   "execution_count": null,
   "id": "5eca648c",
   "metadata": {},
   "outputs": [],
   "source": [
    "user_input = input(\"Nhập vào một số từ 1 đến 7: \")\n",
    "\n",
    "try:\n",
    "    # Chuyển đổi kiểu dữ liệu về int\n",
    "    number = int(user_input)\n",
    "\n",
    "    # Kiểm tra và in ra ngày tương ứng\n",
    "    if 1 <= number <= 7:\n",
    "        days_of_week = [\"Monday\", \"Tuesday\", \"Wednesday\", \"Thursday\", \"Friday\", \"Saturday\", \"Sunday\"]\n",
    "        day = days_of_week[number - 1]\n",
    "        print(f\"{number}: {day}\")\n",
    "    else:\n",
    "        print(\"error, out of range\")\n",
    "\n",
    "except ValueError:\n",
    "    print(\"error, invalid input\")"
   ]
  }
 ],
 "metadata": {
  "kernelspec": {
   "display_name": "Python 3 (ipykernel)",
   "language": "python",
   "name": "python3"
  },
  "language_info": {
   "codemirror_mode": {
    "name": "ipython",
    "version": 3
   },
   "file_extension": ".py",
   "mimetype": "text/x-python",
   "name": "python",
   "nbconvert_exporter": "python",
   "pygments_lexer": "ipython3",
   "version": "3.9.12"
  }
 },
 "nbformat": 4,
 "nbformat_minor": 5
}
