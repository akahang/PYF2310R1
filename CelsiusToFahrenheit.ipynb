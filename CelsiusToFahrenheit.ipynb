{
 "cells": [
  {
   "cell_type": "code",
   "execution_count": null,
   "id": "76bc711f",
   "metadata": {},
   "outputs": [],
   "source": [
    "# Nhập giá trị độ Celsius từ người dùng\n",
    "celsius = float(input(\"Nhập giá trị độ Celsius: \"))\n",
    "\n",
    "# Tính toán độ Fahrenheit\n",
    "fahrenheit = (celsius * 1.8) + 32\n",
    "\n",
    "# Hiển thị kết quả\n",
    "print(f\"{celsius} độ Celsius tương ứng với {fahrenheit} độ Fahrenheit.\")\n"
   ]
  }
 ],
 "metadata": {
  "kernelspec": {
   "display_name": "Python 3 (ipykernel)",
   "language": "python",
   "name": "python3"
  },
  "language_info": {
   "codemirror_mode": {
    "name": "ipython",
    "version": 3
   },
   "file_extension": ".py",
   "mimetype": "text/x-python",
   "name": "python",
   "nbconvert_exporter": "python",
   "pygments_lexer": "ipython3",
   "version": "3.9.12"
  }
 },
 "nbformat": 4,
 "nbformat_minor": 5
}
